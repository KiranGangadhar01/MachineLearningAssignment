{
  "nbformat": 4,
  "nbformat_minor": 0,
  "metadata": {
    "colab": {
      "name": "PythonAssignment02.ipynb",
      "provenance": [],
      "authorship_tag": "ABX9TyMl5AanibhKBgqk8/a/eC0m",
      "include_colab_link": true
    },
    "kernelspec": {
      "name": "python3",
      "display_name": "Python 3"
    }
  },
  "cells": [
    {
      "cell_type": "markdown",
      "metadata": {
        "id": "view-in-github",
        "colab_type": "text"
      },
      "source": [
        "<a href=\"https://colab.research.google.com/github/KiranGangadhar01/MachineLearningAssignment/blob/main/PythonAssignment02.ipynb\" target=\"_parent\"><img src=\"https://colab.research.google.com/assets/colab-badge.svg\" alt=\"Open In Colab\"/></a>"
      ]
    },
    {
      "cell_type": "markdown",
      "metadata": {
        "id": "xURlRIpmYpag"
      },
      "source": [
        "1. Create the below pattern using nested for loop in Python.\n",
        "```\n",
        "1\n",
        "11\n",
        "111\n",
        "1111\n",
        "11111\n",
        "1111\n",
        "111\n",
        "11\n",
        "1\n",
        "Note: 1 --> *\n",
        "```\n"
      ]
    },
    {
      "cell_type": "code",
      "metadata": {
        "id": "CvrWtBW1YvUZ",
        "outputId": "b7c9fa90-649d-4be6-a631-0e828155d254",
        "colab": {
          "base_uri": "https://localhost:8080/",
          "height": 170
        }
      },
      "source": [
        "maxPattern = 5\n",
        "for pattern in range(1,(maxPattern + 1)):\n",
        "  print('*' * pattern)\n",
        "  if pattern == maxPattern:\n",
        "    count = maxPattern - 1\n",
        "    for num in range(maxPattern - 1):\n",
        "      print('*' * count)\n",
        "      count -= 1"
      ],
      "execution_count": 1,
      "outputs": [
        {
          "output_type": "stream",
          "text": [
            "*\n",
            "**\n",
            "***\n",
            "****\n",
            "*****\n",
            "****\n",
            "***\n",
            "**\n",
            "*\n"
          ],
          "name": "stdout"
        }
      ]
    },
    {
      "cell_type": "markdown",
      "metadata": {
        "id": "t46n2KCdck9Q"
      },
      "source": [
        "2. Write a Python program to reverse a word after accepting the input from the user.\n",
        "\n",
        "\n",
        "```\n",
        "Sample Output:\n",
        "Input word: ineuron\n",
        "Output: norueni\n",
        "```\n",
        "\n",
        "\n"
      ]
    },
    {
      "cell_type": "code",
      "metadata": {
        "id": "wtakh1T9c1sl",
        "outputId": "d2672702-aa3d-4e45-b085-0d2656ab1a25",
        "colab": {
          "base_uri": "https://localhost:8080/",
          "height": 51
        }
      },
      "source": [
        "word = input(\"Please enter any word which you want to reverse: \")\n",
        "print(word[::-1])"
      ],
      "execution_count": 2,
      "outputs": [
        {
          "output_type": "stream",
          "text": [
            "Please enter any word which you want to reverse: Hello..!\n",
            "!..olleH\n"
          ],
          "name": "stdout"
        }
      ]
    }
  ]
}