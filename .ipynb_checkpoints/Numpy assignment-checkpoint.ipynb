{
 "cells": [
  {
   "cell_type": "markdown",
   "metadata": {},
   "source": [
    "<b> Write a function so that the columns of the output matrix are powers of the input\n",
    "vector. \n",
    "      \n",
    "The order of the powers is determined by the increasing boolean argument. Specifically, when\n",
    "increasing is False, the i-th output column is the input vector raised element-wise to the power\n",
    "of N - i - 1. </b>  \n",
    "  \n",
    "HINT: Such a matrix with a geometric progression in each row is named for Alexandre-\n",
    "Theophile Vandermonde. "
   ]
  },
  {
   "cell_type": "code",
   "execution_count": 1,
   "metadata": {},
   "outputs": [],
   "source": [
    "import numpy as np\n",
    "x = np.array([1, 2, 3, 4, 5])\n",
    "N = 5"
   ]
  },
  {
   "cell_type": "code",
   "execution_count": 2,
   "metadata": {},
   "outputs": [
    {
     "data": {
      "text/plain": [
       "array([[  1,   1,   1,   1,   1],\n",
       "       [ 16,   8,   4,   2,   1],\n",
       "       [ 81,  27,   9,   3,   1],\n",
       "       [256,  64,  16,   4,   1],\n",
       "       [625, 125,  25,   5,   1]])"
      ]
     },
     "execution_count": 2,
     "metadata": {},
     "output_type": "execute_result"
    }
   ],
   "source": [
    "# creating matrix using built-in function np.vander\n",
    "matrix01 = np.vander(x, N, increasing=False)\n",
    "matrix01"
   ]
  },
  {
   "cell_type": "code",
   "execution_count": 3,
   "metadata": {},
   "outputs": [
    {
     "data": {
      "text/plain": [
       "array([[  1,   1,   1,   1,   1],\n",
       "       [ 16,   8,   4,   2,   1],\n",
       "       [ 81,  27,   9,   3,   1],\n",
       "       [256,  64,  16,   4,   1],\n",
       "       [625, 125,  25,   5,   1]])"
      ]
     },
     "execution_count": 3,
     "metadata": {},
     "output_type": "execute_result"
    }
   ],
   "source": [
    "# method-02\n",
    "matrix02 = np.column_stack([x**(N-1-i) for i in range(N)])\n",
    "matrix02"
   ]
  },
  {
   "cell_type": "markdown",
   "metadata": {},
   "source": [
    "Given a sequence of n values x1, x2, ..., xn and a window size k>0, the k-th moving average of\n",
    "the given sequence is defined as follows:\n",
    "  \n",
    "The moving average sequence has n-k+1 elements as shown below.\n",
    "  \n",
    "The moving averages with k=4 of a ten-value sequence (n=10) is shown below\n",
    "  \n",
    "i 1 2 3 4 5 6 7 8 9 10  \n",
    "===== == == == == == == == == == ==  \n",
    "Input 10 20 30 40 50 60 70 80 90 100  \n",
    "y1 25 = (10+20+30+40)/4  \n",
    "y2 35 = (20+30+40+50)/4  \n",
    "y3 45 = (30+40+50+60)/4  \n",
    "y4 55 = (40+50+60+70)/4  \n",
    "y5 65 = (50+60+70+80)/4  \n",
    "y6 75 = (60+70+80+90)/4  \n",
    "y7 85 = (70+80+90+100)/4  \n",
    "Thus, the moving average sequence has n-k+1=10-4+1=7 values.  \n",
    "  \n",
    "<b>Question: Write a function to find moving average in an array over a window: \n",
    "Test it over [3, 5, 7, 2, 8, 10, 11, 65, 72, 81, 99, 100, 150] and window of 3. </b>"
   ]
  },
  {
   "cell_type": "code",
   "execution_count": 4,
   "metadata": {},
   "outputs": [
    {
     "data": {
      "text/plain": [
       "array([  5.  ,   4.67,   5.67,   6.67,   9.67,  28.67,  49.33,  72.67,\n",
       "        84.  ,  93.33, 116.33])"
      ]
     },
     "execution_count": 4,
     "metadata": {},
     "output_type": "execute_result"
    }
   ],
   "source": [
    "import numpy as np\n",
    "\n",
    "def moving_average(a, n=3) :\n",
    "    \n",
    "    #Create a vector of zeroes with the shape as n-k+1\n",
    "    \n",
    "    out_array = np.zeros(len(a) - n + 1)\n",
    "    \n",
    "    # Iterate over the input array. While doing so, for every element, get the next k elements through slicing, \n",
    "    # computer their mean and add to the output array.\n",
    "    \n",
    "    for i in range(n, len(a) + 1):\n",
    "        out_array_moving_avg[i-n] = a[i-n:i].mean()\n",
    "    \n",
    "    return out_array_moving_avg \n",
    "\n",
    "\n",
    "a=np.array([3, 5, 7, 2, 8, 10, 11, 65, 72, 81, 99, 100, 150])\n",
    "#rounding off the results to two digts\n",
    "moving_average_arr = np.array(moving_average(a,n=3)).round(2)\n",
    "moving_average_arr"
   ]
  }
 ],
 "metadata": {
  "kernelspec": {
   "display_name": "Python 3",
   "language": "python",
   "name": "python3"
  },
  "language_info": {
   "codemirror_mode": {
    "name": "ipython",
    "version": 3
   },
   "file_extension": ".py",
   "mimetype": "text/x-python",
   "name": "python",
   "nbconvert_exporter": "python",
   "pygments_lexer": "ipython3",
   "version": "3.7.4"
  }
 },
 "nbformat": 4,
 "nbformat_minor": 2
}
